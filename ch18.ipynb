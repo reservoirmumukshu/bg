{
 "cells": [
  {
   "cell_type": "markdown",
   "metadata": {
    "cell_style": "split",
    "slideshow": {
     "slide_type": "slide"
    }
   },
   "source": [
    "<img src=\"https://images-na.ssl-images-amazon.com/images/I/612axO%2BeIFL._SL1440_.jpg\" alt=\"Sri Krishna\" width=\"950\" height=\"950\" />"
   ]
  },
  {
   "cell_type": "markdown",
   "metadata": {
    "cell_style": "center",
    "slideshow": {
     "slide_type": "slide"
    }
   },
   "source": [
    "# अध्याय १८: ज्ञान सन्यास योगः\n",
    "## Chapter 18: Gnyana Sanyasa Yoga\n",
    "============================================== \n",
    "\n",
    "#### Pranams to the 💮 Lotus Feet 💮 of the Lord. \n",
    "#### Pranams to All Acharyas and Gurus.\n",
    "#### Pranams to All Devis and Mahatmas."
   ]
  },
  {
   "cell_type": "markdown",
   "metadata": {
    "cell_style": "center",
    "slideshow": {
     "slide_type": "fragment"
    }
   },
   "source": [
    "<img src=\"img/bg_book.png\" width=\"300\" height=\"300\" />\n",
    "\n",
    "# Introduction\n",
    "========================================================================\n",
    "\n",
    "## The 2nd and 18th chapter of Bhagavad Gita are the most important. \n",
    "### It is stuctured as follows\n",
    "   * 2nd chapter - <span style=\"color:blue\">Introduction summmary</span> - Upa krama samkshepa\n",
    "   * 3rd - 17th chapter - <span style=\"color:blue\">Elaboration</span> of 2nd chapter\n",
    "   * 18th chapter - <span style=\"color:blue\">Concluding summary</span> - Upa samhara samkshepa\n",
    "   "
   ]
  },
  {
   "cell_type": "markdown",
   "metadata": {
    "cell_style": "center",
    "slideshow": {
     "slide_type": "fragment"
    }
   },
   "source": [
    "## Chapter 18 is the biggest chapter:\n",
    "   * with 78 shlokas\n",
    "   * different from Ch 5 (<span style=\"color:blue\">**Karma**</span> Sanyasa Yoga) - Renunciation *of* karma\n",
    "   * Ch 18 (<span style=\"color:blue\">**Moksha**</span> Sanyasa Yoga) - Renunciation ~~of~~ *FOR* moksha"
   ]
  },
  {
   "cell_type": "markdown",
   "metadata": {
    "cell_style": "center",
    "slideshow": {
     "slide_type": "slide"
    }
   },
   "source": [
    "# Structure of Chapter 18\n",
    "====================================================================\n",
    "&nbsp;\n",
    "\n",
    "## Divided into 5 portions:\n",
    "<table><tr><td><img src='img/monk.jpg' width=\"200\" height=\"200\"/></td>\n",
    "           <td><img src='img/atmaswaroopam.gif' width=\"200\" height=\"200\"/></td>\n",
    "            <td><img src='img/chaturanga.jpg' width=\"200\" height=\"200\"/></td>\n",
    "            <td><img src='img/karmayoga.jpg' width=\"200\" height=\"200\"/></td>\n",
    "            <td><img src='img/gyanayoga.jpg' width=\"200\" height=\"200\"/></td>\n",
    "            <td><img src='img/finish.png' width=\"200\" height=\"200\"/></td>\n",
    "        </tr></table>\n",
    "&nbsp;"
   ]
  },
  {
   "cell_type": "markdown",
   "metadata": {
    "cell_style": "center",
    "slideshow": {
     "slide_type": "fragment"
    }
   },
   "source": [
    "### 1. (Ver 1 - 12)  - <span style=\"color:blue\">**Sanyasa**</span> or renunciation"
   ]
  },
  {
   "cell_type": "markdown",
   "metadata": {
    "cell_style": "center",
    "slideshow": {
     "slide_type": "fragment"
    }
   },
   "source": [
    "### 2. (Ver 13 - 17) - <span style=\"color:blue\">**Atma-swaroopam**</span> or nature of Real Self"
   ]
  },
  {
   "cell_type": "markdown",
   "metadata": {
    "cell_style": "center",
    "slideshow": {
     "slide_type": "fragment"
    }
   },
   "source": [
    "### 3. (Ver 18 - 40) - <span style=\"color:red\">**7-point Matrix**</span> - Sannyasa, Jnanam, Karma, Karta, Buddhi, Dhriti, Sukham by SRT"
   ]
  },
  {
   "cell_type": "markdown",
   "metadata": {
    "cell_style": "center",
    "slideshow": {
     "slide_type": "fragment"
    }
   },
   "source": [
    "### 4. (Ver 41 - 66) - <span style=\"color:blue\">**KarmaYoga** and **JnanaYoga**</span> summaries - the Central teaching of Gita"
   ]
  },
  {
   "cell_type": "markdown",
   "metadata": {
    "cell_style": "center",
    "slideshow": {
     "slide_type": "fragment"
    }
   },
   "source": [
    "### 5. (Ver 67 - 78) - <span style=\"color:blue\">**Upa Samhara**</span> - winding down the Gita"
   ]
  },
  {
   "cell_type": "markdown",
   "metadata": {
    "cell_style": "split",
    "slideshow": {
     "slide_type": "slide"
    }
   },
   "source": [
    "# 1) Sanyasa v/s Tyaga - Arjuna's question\n",
    "===============================================================\n",
    "<table>\n",
    "<tbody>\n",
    "<tr>\n",
    "<td>\n",
    "<h2>Arjuna:</h2>\n",
    "</td>\n",
    "<td width=\"60%\">\n",
    "<h2>Are Sanyasa and Tyaga the same?</h2>\n",
    "</td>\n",
    "<td><img src='img/arjuna.jpg' width=\"200\" height=\"200\"/>    </td>\n",
    "</tr>\n",
    "<tr>\n",
    "<td>\n",
    "<h2>Krishna:</h2>\n",
    "</td>\n",
    "<td width=\"60%\">\n",
    "    <h2>Yes. Sanyasa=Tyaga = <span style=\"color:red\">**Renunciation**</span></h2>\n",
    "</td>\n",
    "<td><img src='img/krishna_flute3.png' width=\"200\" height=\"200\"/></td>\n",
    "</tr>\n",
    "</tbody>\n",
    "</table>"
   ]
  },
  {
   "cell_type": "markdown",
   "metadata": {
    "cell_style": "split",
    "slideshow": {
     "slide_type": "fragment"
    }
   },
   "source": [
    "## So, what is this <span style=\"color:red\">Renunciation?</span>\n",
    "&nbsp;"
   ]
  },
  {
   "cell_type": "markdown",
   "metadata": {
    "cell_style": "split",
    "slideshow": {
     "slide_type": "fragment"
    }
   },
   "source": [
    "### Renunciation is of two types:\n",
    "&nbsp;\n",
    "\n",
    "### 1. **Primary** called <span style=\"color:blue\">**Mukhya Sanyasa**</span>\n",
    "#### - For a \"mature\" seeker\n",
    "#### - Also called **Ashrama Sanyasa** (or) **Kashaya vastra Sanyasa**\n",
    "#### - For a <span style=\"color:blue\">\"Sadhana-Chathustaya-Sampanna-Adhikari\"</span>\n",
    "#### - Leaves everything - family, society, job, all relationships, all possessions\n",
    "#### - Accepted and permitted only for \"advanced\" students"
   ]
  },
  {
   "cell_type": "markdown",
   "metadata": {
    "cell_style": "split",
    "slideshow": {
     "slide_type": "fragment"
    }
   },
   "source": [
    "### 2. **Secondary** called <span style=\"color:blue\">**Gauna Sanyasa**</span>\n",
    "#### - a compromised version, for a not-so-advanced students\n",
    "#### - doesn't give up duty, family, relationship, etc ...\n",
    "#### - but <span style=\"color:blue\"> gives up **Raga-Dvesha**</span> - Binding expectations from society"
   ]
  },
  {
   "cell_type": "markdown",
   "metadata": {
    "slideshow": {
     "slide_type": "slide"
    }
   },
   "source": [
    "# Sanyasa (contd)\n",
    "=========================\n",
    "&nbsp;\n",
    "\n",
    "<table>\n",
    "<tbody>\n",
    "<tr>\n",
    "<td>\n",
    "<h1>Per Krishna, Arjuna was not an \"advanced student\"</h1>\n",
    "<h2>- Proof: Arjuna's delusion from imaginary separation from Bhisma/Drona (ref: Ch1)</h2>\n",
    "<h2>- So Krishna kept quiet about Mukhya Sanyasa in Chapter 18</h2>\n",
    "</td>\n",
    "<td><img src='img/arjuna3.jpg' width=\"200\" height=\"300\"/></td>\n",
    "</tr>\n",
    "<tr>\n",
    "<td>\n",
    "    <h1>- <span style=\"color:blue\">Mukhya Sanyasa</span> was more suited to Uddhava</h1>\n",
    "<h2>- In Uddhava Gita (Bhagavatham), Krishna guides Uddhava to take up Sanyasa</h2>\n",
    "</td>\n",
    "<td><img src='img/uddhava2.jpg' width=\"200\" height=\"200\"/></td>\n",
    "</tr>\n",
    "</tbody>\n",
    "</table>\n",
    "&nbsp;"
   ]
  },
  {
   "cell_type": "markdown",
   "metadata": {
    "slideshow": {
     "slide_type": "slide"
    }
   },
   "source": [
    "# Types of Guna Sanyasas\n",
    "=======================================\n",
    "&nbsp;\n",
    "## Krishna strongly advises Arjuna, not to give up Karmas and do his duty in Kurukshetra.\n",
    "### - Improper renunciation by an immature person is <span style=\"color:blue\">**Rajasa Sanyasa**</span> or <span style=\"color:blue\">**Tamasa Sanyasa**</span>\n",
    "### - This would be <span style=\"color:blue\">escapism</span>\n",
    "\n",
    "&nbsp;"
   ]
  },
  {
   "cell_type": "markdown",
   "metadata": {
    "slideshow": {
     "slide_type": "fragment"
    }
   },
   "source": [
    "## Krishna extols Arjuna to take up <span style=\"color:blue\">**Satvika Sanyasa**</span>\n",
    "### - which means <span style=\"color:blue\">renouncing sankalpas</span>, which are <span style=\"color:blue\"><b>binding expectations</b> from society</span> ...\n",
    "### ... and doing duty, including fighting the war without any <span style=\"color:blue\">**raaga-dvesha**</span>\n",
    "### - this leads one to <span style=\"color:blue\">samatvam</span> due to which one will accept any outcome without anxiety, fear or worry"
   ]
  },
  {
   "cell_type": "markdown",
   "metadata": {
    "slideshow": {
     "slide_type": "slide"
    }
   },
   "source": [
    "# 2) Atma-swaroopam\n",
    "===============================\n",
    "&nbsp;"
   ]
  },
  {
   "cell_type": "markdown",
   "metadata": {
    "slideshow": {
     "slide_type": "fragment"
    }
   },
   "source": [
    "<table>\n",
    "<tbody>\n",
    "<tr>\n",
    "<td>\n",
    "<h1><span style=\"color: blue;\">Atma-swaroopam</span> is our real higher-nature. We don't know by ourselves.</h1>\n",
    "<h2>Hence we suffer from problems.</h2>\n",
    "</td>\n",
    "<td><img src=\"img/atmaswaroopam2.gif\" width=\"200\" height=\"200\" /></td>\n",
    "</tr>\n",
    "</tbody>\n",
    "</table>"
   ]
  },
  {
   "cell_type": "markdown",
   "metadata": {
    "slideshow": {
     "slide_type": "fragment"
    }
   },
   "source": [
    "<table>\n",
    "<tbody>\n",
    "<tr>\n",
    "<td>\n",
    "<h3>&nbsp;</h3>\n",
    "<h1>Atma-swaroopam is <span style=\"color: blue;\">Chaitanya-swaroopam</span> - Pure consciousness (<span style=\"color: blue;\">It</span>)</h1>\n",
    "    <h1><span style=\"color: blue;\">It</span>:</h1>\n",
    "<h2>- is not part, property or product of the body<br /> - is an independant entity which pervades and enlivens the body<br /> - is not limited by the boundaries of the body - all pervading like space<br /> - does not perish even when body disintegrates</h2>\n",
    "</td>\n",
    "<td><img src=\"img/krishna_silhoutte.PNG\" width=\"200\" height=\"200\" /></td>\n",
    "</tr>\n",
    "</tbody>\n",
    "</table>"
   ]
  },
  {
   "cell_type": "markdown",
   "metadata": {
    "slideshow": {
     "slide_type": "fragment"
    }
   },
   "source": [
    "## Steps to know atma swarooopam:\n",
    "-------------------------\n",
    "<table>\n",
    "<tbody>\n",
    "<tr>\n",
    "<td>\n",
    "<h1></h1>\n",
    "    <p>&nbsp;</p>\n",
    "<h2>Consciousness noted from our own feelings - like pain</h2>\n",
    "    <p>&nbsp;</p>\n",
    "<h2>Once we get to know consciousness, we should learn to \"identify\" with it</h2>\n",
    "<h3>... Identify means treating body as a temporary, but useful dress - instead of claiming body as consciousness</h3>\n",
    "    <p>&nbsp;</p>\n",
    "<h2>We should always claim&nbsp;</h2>\n",
    "  <h1><span style=\"color: blue;\"><strong>🔥🔥I ever Am🔥🔥</strong></span></h1>\n",
    "<p>&nbsp;</p>\n",
    "<h2>Body comes and goes. But, I always remain !!</h2>\n",
    "<p>&nbsp;</p>\n",
    "<h1>&nbsp;</h1>\n",
    "<p>&nbsp;</p>\n",
    "</td>\n",
    "<td><img src=\"img/pinch_pain.PNG\" width=\"200\" height=\"200\" /> <img src=\"img/woman_mirror.jpg\" width=\"200\" height=\"200\" /></td>\n",
    "</tr>\n",
    "</tbody>\n",
    "</table>"
   ]
  },
  {
   "cell_type": "markdown",
   "metadata": {
    "slideshow": {
     "slide_type": "slide"
    }
   },
   "source": [
    "# 2) Atma-swaroopam (contd)\n",
    "=========================================="
   ]
  },
  {
   "cell_type": "markdown",
   "metadata": {
    "slideshow": {
     "slide_type": "fragment"
    }
   },
   "source": [
    "<table>\n",
    "<tbody>\n",
    "<tr>\n",
    "<td>\n",
    "    <h1><span style=\"color: blue;\">I</span> am <span style=\"color: blue;\">Akarta</span> and <span style=\"color: blue;\">Abhokta</span></h1>\n",
    "<h2>- like the space (Akasham), <span style=\"color: blue;\">all pervading</span>, cannot perform any action, or reap any result.</h2>\n",
    "    <h2>- in my presence material factors (<span style=\"color: blue;\">Koshas</span>), consisting of 5 components alone performs actions</h2>\n",
    "<h3>- material body, material prana &amp; material mind do actions</h3>\n",
    "</td>\n",
    "<td><img src=\"img/panchakoshas.PNG\" width=\"250\" height=\"250\" /></td>\n",
    "</tr>\n",
    "</tbody>\n",
    "</table>"
   ]
  },
  {
   "cell_type": "markdown",
   "metadata": {
    "slideshow": {
     "slide_type": "fragment"
    }
   },
   "source": [
    "<table>\n",
    "<tbody>\n",
    "<tr>\n",
    "<td>\n",
    "<h1><span style=\"color: blue;\">Sanchita</span>, <span style=\"color: blue;\">Aagami</span> and <span style=\"color: blue;\">Prarabdha</span> don't belong to me</h1>\n",
    "    <h2>- <span style=\"color: blue;\">I</span> am like light pervading space, which illumines but does not move... </h2>\n",
    "<h2>- if I don't do karma, how can I get phalam?</h2>\n",
    "<h2>- Even Janmas do not belong to me</h2>\n",
    "<h3>... because janmas are determined by karmas</h3>\n",
    "</td>\n",
    "<td><img src=\"img/sanchita_aagami.PNG\" width=\"250\" height=\"250\" /> <img src=\"img/light1.jpg\" width=\"250\" height=\"250\" /></td>\n",
    "</tr>\n",
    "</tbody>\n",
    "</table>"
   ]
  },
  {
   "cell_type": "markdown",
   "metadata": {
    "slideshow": {
     "slide_type": "fragment"
    }
   },
   "source": [
    "<table>\n",
    "<tbody>\n",
    "<tr>\n",
    "<td>\n",
    "    <h1><span style=\"color: green;\"><strong><span style=\"color: blue;\">I</span> am ever free !!!</strong></span></h1>\n",
    "<h2>- I am nitya-mukta-swaroopa</h2>\n",
    "<h2>- I am punya-paapa-atheetha</h2>\n",
    "<h2>- I am uttama-adhama-madhyama-janma-rahitha</h2>\n",
    "</td>\n",
    "<td><img src=\"img/i_am_free.jpg\" width=\"300\" height=\"300\" /></td>\n",
    "</tr>\n",
    "</tbody>\n",
    "</table>"
   ]
  },
  {
   "cell_type": "markdown",
   "metadata": {
    "cell_style": "center",
    "slideshow": {
     "slide_type": "slide"
    }
   },
   "source": [
    "# 3) The matrix\n",
    "===================\n",
    "&nbsp;\n",
    "\n",
    "## Krishna ingeneously chooses to present crux of Gita in a matrix in Ver 18-40"
   ]
  },
  {
   "cell_type": "markdown",
   "metadata": {
    "cell_style": "center",
    "slideshow": {
     "slide_type": "subslide"
    }
   },
   "source": [
    "<img src=\"img/matrix1.PNG\" width=\"1200\" height=\"1200\" />"
   ]
  },
  {
   "cell_type": "markdown",
   "metadata": {
    "cell_style": "center",
    "slideshow": {
     "slide_type": "subslide"
    }
   },
   "source": [
    "<img src=\"img/matrix2.PNG\" width=\"1200\" height=\"1200\" />"
   ]
  },
  {
   "cell_type": "markdown",
   "metadata": {
    "slideshow": {
     "slide_type": "slide"
    }
   },
   "source": [
    "# So, what is Satvik, Rajasik and Tamasik?\n",
    "---------------------\n",
    "<table>\n",
    "<tbody>\n",
    "<tr>\n",
    "<td width=\"80%\">\n",
    "<h1><span style=\"color: blue;\">Satvik</span> - Whatever contributes to <span style=\"color: blue;\">spiritual growth</span> or inner growth</h1>\n",
    "</td>\n",
    "<td><img src=\"img\\spiritual_growth.jpg\" width=\"150\" height=\"150\" /></td>\n",
    "</tr>\n",
    "</tbody>\n",
    "</table>"
   ]
  },
  {
   "cell_type": "markdown",
   "metadata": {
    "slideshow": {
     "slide_type": "fragment"
    }
   },
   "source": [
    "<p>&nbsp;</p>\n",
    "<table>\n",
    "<tbody>\n",
    "<tr>\n",
    "<td width=\"80%\">\n",
    "<h1><span style=\"color: blue;\">Tamasik</span> - Whatever contributes to <span style=\"color: blue;\">spiritual downfall</span></h1>\n",
    "<h2>-&nbsp;Opposite to Satvik</h2>\n",
    "</td>\n",
    "<td><img src=\"img\\spiritual_downfall.jpg\" width=\"150\" height=\"150\" /></td>\n",
    "</tr>\n",
    "</tbody>\n",
    "</table>"
   ]
  },
  {
   "cell_type": "markdown",
   "metadata": {
    "slideshow": {
     "slide_type": "fragment"
    }
   },
   "source": [
    "<table>\n",
    "<tbody>\n",
    "<tr>\n",
    "<td width=\"80%\">\n",
    "<h1><span style=\"color: blue;\">Rajasik</span> - Contributes to <span style=\"color: blue;\">material growth but</span> leads to <span style=\"color: blue;\">spiritual stagnation</span></h1>\n",
    "<h2>- A lifestyle with material growth. More cars, more houses ...</h2>\n",
    "<h2>- Richest person but no time for pooja, japa, scriptural studies...</h2>\n",
    "<h2>- Society looks upon him as a successful person ...</h2>\n",
    "</td>\n",
    "<td><img src=\"img\\spiritual_stagnation.PNG\" width=\"150\" height=\"150\" /></td>\n",
    "</tr>\n",
    "</tbody>\n",
    "</table>"
   ]
  },
  {
   "cell_type": "markdown",
   "metadata": {
    "slideshow": {
     "slide_type": "fragment"
    }
   },
   "source": [
    "<table>\n",
    "<tbody>\n",
    "<tr>\n",
    "<td width=\"80%\">\n",
    "<h1>Always <span style=\"color: blue;\">adjust life</span> to ensure that the we <span style=\"color: blue;\">do not go down spiritually</span></h1>\n",
    "<h2>- Avoid Tamasik</h2>\n",
    "<h2>- Reduce Rajasik</h2>\n",
    "<h2>- Increase Satvik</h2>\n",
    "</td>\n",
    "<td><img src=\"img\\dial_knob.PNG\" width=\"150\" height=\"150\" /></td>\n",
    "</tr>\n",
    "</tbody>\n",
    "</table>"
   ]
  },
  {
   "cell_type": "markdown",
   "metadata": {
    "cell_style": "split",
    "slideshow": {
     "slide_type": "slide"
    }
   },
   "source": [
    "# 4) Karma Yoga and Jnana Yoga\n",
    "=================================================\n",
    "## - Karma Yoga is: Proper Action with Proper Attitude\n",
    "&nbsp;\n",
    "\n",
    "<img src='img/varna_karma.jpg' width=\"400\" height=\"400\"/>"
   ]
  },
  {
   "cell_type": "markdown",
   "metadata": {
    "cell_style": "split",
    "slideshow": {
     "slide_type": "fragment"
    }
   },
   "source": [
    "# Karmayoga - Proper Action\n",
    "--------------------------------------------\n",
    "&nbsp;\n",
    "#### .... Svadharma anushtanam - perform one's own duties diligently:\n",
    "##### * Pancha maha yagna - duty to oneself, family, society, religion and environment\n",
    "&nbsp;\n",
    "\n",
    "### - How to determine <span style=\"color:blue\">one's own duty</span>?\n",
    "#### .... Historically done by varna (caste) and ashrama (stage of life - student/householder/monk)\n",
    "#### .... If not possible, follow duties:\n",
    "##### * according to one's own nature\n",
    "&nbsp;"
   ]
  },
  {
   "cell_type": "markdown",
   "metadata": {
    "cell_style": "split",
    "slideshow": {
     "slide_type": "fragment"
    }
   },
   "source": [
    "## Always <span style=\"color:blue\">contribute to others</span>\n",
    "### - Life should involve <span style=\"color:blue\">**giving**</span> and <span style=\"color:blue\">**contribution**</span>\n",
    "### - One's <span style=\"color:blue\">**contribution** should be greater than consumption</span>\n",
    "&nbsp;"
   ]
  },
  {
   "cell_type": "markdown",
   "metadata": {
    "cell_style": "split",
    "slideshow": {
     "slide_type": "fragment"
    }
   },
   "source": [
    "## Key Success factors:\n",
    "### <span style=\"color:blue\">*Material* </span> success - when contribution < consumption \n",
    "#### .... considered to be clever and successful\n",
    "&nbsp;\n",
    "\n",
    "### <span style=\"color:blue\">*Spiritual* </span> success - when contribution > consumption\n",
    "#### .... knowledge, time, energy, capacity for common good\n",
    "#### .... simple things like good-wishes, smile"
   ]
  },
  {
   "cell_type": "markdown",
   "metadata": {
    "cell_style": "split",
    "slideshow": {
     "slide_type": "fragment"
    }
   },
   "source": [
    "# Karmayoga - Proper Attitude\n",
    "---------------------------------------------------\n",
    "&nbsp;\n",
    "\n",
    "## <span style=\"color:blue\">Ishwara arpanam</span>\n",
    "### - Whatever you do, see it as an offering to God\n",
    "&nbsp;\n",
    "\n",
    "## <span style=\"color:blue\">Prasada buddhi</span>\n",
    "### - Whatever be the consequence, accept as His Prasadam.\n",
    "&nbsp;\n",
    "\n",
    "## Benefit:\n",
    "### - Purification of the mind"
   ]
  },
  {
   "cell_type": "markdown",
   "metadata": {
    "cell_style": "split",
    "slideshow": {
     "slide_type": "slide"
    }
   },
   "source": [
    "<img src='img/brahmin_student.jpg' width=\"300\" height=\"300\"/>\n",
    "<img src='img/doubt.jpg' width=\"300\" height=\"300\"/>\n",
    "<img src='img/krishna_dhyana.jpg' width=\"300\" height=\"300\"/>"
   ]
  },
  {
   "cell_type": "markdown",
   "metadata": {
    "cell_style": "split",
    "slideshow": {
     "slide_type": "fragment"
    }
   },
   "source": [
    "# Jnana yoga\n",
    "-------------------------\n",
    "&nbsp;\n",
    "\n",
    "## 1. <span style=\"color:blue\">Shravanam:</span> Consistent, systematic study of scriptures\n",
    "### ... for a lengthy period of time\n",
    "### ... under guidance of a competent Guru\n",
    "&nbsp;\n",
    "\n",
    "## 2. <span style=\"color:blue\">Mananam:</span> Dwell on what was learnt\n",
    "### ...make sure that it is acceptable to my intellect\n",
    "### ...remove all doubts\n",
    "&nbsp;\n",
    "\n",
    "## 3. <span style=\"color:blue\">Nidhidhyasanam</span> Remain in the knowledge for a long time\n",
    "### ...every cell of my personality should absorb the teachings and be in them\n",
    "### ...internalize, internalize, internalize\n",
    "### ...for days, months, years, decades...\n",
    "### ...even in my dreams, I should see myself as a <span style=\"color:blue\">free person</span>\n",
    "&nbsp;"
   ]
  },
  {
   "cell_type": "markdown",
   "metadata": {
    "cell_style": "split",
    "slideshow": {
     "slide_type": "fragment"
    }
   },
   "source": [
    "-------------\n",
    "\n",
    "<h1> सर्वधर्मान्परित्यज्य मामेकं शरणं व्रज।</h1>\n",
    "<h1> अहं त्वा सर्वपापेभ्यो मोक्षयिष्यामि मा शुचः।।18.66।।</h1>\n",
    "\n",
    "--------------\n",
    "## <span style=\"color:blue\">Give up Dharma</span>\n",
    "### Deha Abhimana Parityaga - Give up your body identification\n",
    "### Dharma / Adharma belongs to the body alone\n",
    "&nbsp;\n",
    "\n",
    "## Choose to identify with the <span style=\"color:blue\">**Dehi**</span> atma... \n",
    "## which is the <span style=\"color:blue\">real Self (Krishna)</span>"
   ]
  },
  {
   "cell_type": "markdown",
   "metadata": {
    "cell_style": "split",
    "slideshow": {
     "slide_type": "slide"
    }
   },
   "source": [
    "# Winding down the 18th chapter\n",
    "=============================================\n",
    "\n",
    "&nbsp;\n",
    "\n",
    "## <span style=\"color:blue\">4D</span> qualifications are mentioned for Gita study:\n",
    "### 1. <span style=\"color:blue\">Tapas</span> (<span style=\"color:blue\">D</span>isciplined life)\n",
    "### 2. <span style=\"color:blue\">Bhakti</span> (<span style=\"color:blue\">D</span>evotion)\n",
    "### 3. <span style=\"color:blue\">Shraddha</span> (<span style=\"color:blue\">D</span>eep faith in vailidity of Bhagavad Gita)\n",
    "### 4. <span style=\"color:blue\">Anusuya/Shushrusha</span> (<span style=\"color:blue\">D</span>esire for learning)\n",
    "\n",
    "&nbsp;"
   ]
  },
  {
   "cell_type": "markdown",
   "metadata": {
    "cell_style": "split",
    "slideshow": {
     "slide_type": "fragment"
    }
   },
   "source": [
    "## Teaching the Gita is glorified\n",
    "### a. Teacher is dearest to Krishna. He is sure to get moksha\n",
    "### b. Student - depending on the type. He/She will get swarga as a minimum\n",
    "&nbsp;"
   ]
  },
  {
   "cell_type": "markdown",
   "metadata": {
    "cell_style": "split",
    "slideshow": {
     "slide_type": "fragment"
    }
   },
   "source": [
    "## Krishna then asks Arjuna\n",
    "### Which type of student are you?\n",
    "### Arjuna says he is the best student who has:\n",
    "#### Grasped all teachings, am free from all conflicts and ready for war\n",
    "&nbsp;\n",
    "\n",
    "## Sanjaya's final remarks\n",
    "### O Rajan, I am fortunate to hear the Gita with Vyasacharya's grace\n",
    "### Enjoyed the teaching\n",
    "### Chapter 11 - Vishwaroopa Darshana was the best"
   ]
  },
  {
   "cell_type": "markdown",
   "metadata": {
    "cell_style": "split",
    "slideshow": {
     "slide_type": "slide"
    }
   },
   "source": [
    "# <span style=\"color:blue\">Whichever Real Seeker</span>\n",
    "# ...invokes Lord Krishna \n",
    "# ...invokes Arjuna in himself/herself\n",
    "&nbsp;\n",
    "\n",
    "# <span style=\"color:blue\">will find all material and spiritual success in life!!!</span>"
   ]
  },
  {
   "cell_type": "markdown",
   "metadata": {
    "cell_style": "split",
    "slideshow": {
     "slide_type": "fragment"
    }
   },
   "source": [
    "# <p style=\"text-align:center;\">**श्री गुरुभ्यो नमः। हरिः ॐ॥**</p>\n",
    "&nbsp;\n",
    "\n",
    "<img src=\"https://images-na.ssl-images-amazon.com/images/I/612axO%2BeIFL._SL1440_.jpg\" alt=\"Sri Krishna\" width=\"850\" height=\"850\" />"
   ]
  }
 ],
 "metadata": {
  "celltoolbar": "Slideshow",
  "kernelspec": {
   "display_name": "Python 3.8.1 32-bit",
   "language": "python",
   "name": "python38132bit2115ca79f6634adbad3a74c57c1d7c04"
  },
  "language_info": {
   "codemirror_mode": {
    "name": "ipython",
    "version": 3
   },
   "file_extension": ".py",
   "mimetype": "text/x-python",
   "name": "python",
   "nbconvert_exporter": "python",
   "pygments_lexer": "ipython3",
   "version": "3.8.1"
  },
  "livereveal": {
   "autolaunch": true
  }
 },
 "nbformat": 4,
 "nbformat_minor": 4
}
