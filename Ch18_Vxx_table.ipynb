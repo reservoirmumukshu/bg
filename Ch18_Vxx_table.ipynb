{
 "cells": [
  {
   "cell_type": "markdown",
   "metadata": {
    "cell_style": "split",
    "slideshow": {
     "slide_type": "fragment"
    }
   },
   "source": [
    "<!-- ![Sri Krishna](https://images-na.ssl-images-amazon.com/images/I/612axO%2BeIFL._SL1440_.jpg) -->\n",
    "<img src=\"https://images-na.ssl-images-amazon.com/images/I/612axO%2BeIFL._SL1440_.jpg\" alt=\"Sri Krishna\"/>"
   ]
  },
  {
   "cell_type": "markdown",
   "metadata": {
    "cell_style": "split",
    "slideshow": {
     "slide_type": "fragment"
    }
   },
   "source": [
    "# ज्ञान सन्यास योगः\n",
    "## Chapter 18: Gnyana Sanyasa Yoga\n",
    "============================================== \n",
    "\n",
    "&nbsp;\n",
    "\n",
    "#### Pranams to the 💮 Lotus Feet 💮 of the Lord. \n",
    "#### Pranams to All Acharyas and Guru.\n",
    "#### Pranams to All Devis and Mahatmas.\n",
    "&nbsp;\n",
    "\n",
    "&nbsp;\n",
    "\n",
    "Today I will be covering Chapter 18 \n",
    "\n"
   ]
  },
  {
   "cell_type": "code",
   "execution_count": null,
   "metadata": {},
   "outputs": [],
   "source": []
  }
 ],
 "metadata": {
  "celltoolbar": "Slideshow",
  "kernelspec": {
   "display_name": "Python 3.8.1 32-bit",
   "language": "python",
   "name": "python38132bit2115ca79f6634adbad3a74c57c1d7c04"
  },
  "language_info": {
   "codemirror_mode": {
    "name": "ipython",
    "version": 3
   },
   "file_extension": ".py",
   "mimetype": "text/x-python",
   "name": "python",
   "nbconvert_exporter": "python",
   "pygments_lexer": "ipython3",
   "version": "3.8.1"
  },
  "livereveal": {
   "autolaunch": true
  }
 },
 "nbformat": 4,
 "nbformat_minor": 4
}
